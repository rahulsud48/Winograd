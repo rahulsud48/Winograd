{
 "cells": [
  {
   "cell_type": "code",
   "execution_count": 6,
   "metadata": {},
   "outputs": [],
   "source": [
    "import numpy as np\n",
    "\n",
    "def winograd_convolution_2x2_3x3(input_tile, filter_tile):\n",
    "    \"\"\"\n",
    "    Perform Winograd convolution F(2x2, 3x3).\n",
    "\n",
    "    :param input_tile: 4x4 numpy array representing the input tile.\n",
    "    :param filter_tile: 3x3 numpy array representing the filter tile.\n",
    "    :return: 2x2 numpy array representing the output tile.\n",
    "    \"\"\"\n",
    "\n",
    "    # Transformation matrices for F(2x2, 3x3)\n",
    "    G = np.array([[1,  0,  0],\n",
    "                  [0.5, 0.5, 0.5],\n",
    "                  [0.5, -0.5, 0.5],\n",
    "                  [0,  0,  1]])\n",
    "\n",
    "    B = np.array([[1,  0,  -1, 0],\n",
    "                  [0,  1,  1,  0],\n",
    "                  [0, -1,  1,  0],\n",
    "                  [0,  1,  0, -1]])\n",
    "\n",
    "    A = np.array([[1,  1,  1, 0],\n",
    "                  [0,  1, -1, -1]])\n",
    "\n",
    "    # Step 1: Transform filter tile\n",
    "    G = np.array([[1, 0, 0],\n",
    "                  [-1/2, 1/2, -1/2],\n",
    "                  [-1/2, -1/2, -1/2],\n",
    "                  [0, 0, 1]])\n",
    "    GT = G.T\n",
    "\n",
    "    # Transform the filter tile\n",
    "    U = G @ filter_tile @ GT\n",
    "\n",
    "    # Step 2: Transform input tile\n",
    "    B = np.array([[1, 0, -1, 0],\n",
    "                  [0, 1, 1, 0],\n",
    "                  [0, -1, 1, 0],\n",
    "                  [0, 1, 0, -1]])\n",
    "    BT = B.T\n",
    "\n",
    "    # Transform the input tile\n",
    "    V = BT @ input_tile @ B\n",
    "\n",
    "    # Step 3: Element-wise multiplication\n",
    "    M = U * V\n",
    "\n",
    "    # Step 4: Transform output tile\n",
    "    A = np.array([[1, 1, 1, 0],\n",
    "                  [0, 1, -1, -1]])\n",
    "    AT = A.T\n",
    "\n",
    "    # Compute the output tile\n",
    "    output_tile = AT @ M @ A\n",
    "\n",
    "    return output_tile[:2, :2]\n"
   ]
  },
  {
   "cell_type": "code",
   "execution_count": 7,
   "metadata": {},
   "outputs": [
    {
     "ename": "ValueError",
     "evalue": "matmul: Input operand 1 has a mismatch in its core dimension 0, with gufunc signature (n?,k),(k,m?)->(n?,m?) (size 4 is different from 2)",
     "output_type": "error",
     "traceback": [
      "\u001b[0;31m---------------------------------------------------------------------------\u001b[0m",
      "\u001b[0;31mValueError\u001b[0m                                Traceback (most recent call last)",
      "\u001b[0;32m<ipython-input-7-2dda50ca2179>\u001b[0m in \u001b[0;36m<module>\u001b[0;34m\u001b[0m\n\u001b[1;32m     23\u001b[0m \u001b[0;34m\u001b[0m\u001b[0m\n\u001b[1;32m     24\u001b[0m \u001b[0;31m# Run the test\u001b[0m\u001b[0;34m\u001b[0m\u001b[0;34m\u001b[0m\u001b[0;34m\u001b[0m\u001b[0m\n\u001b[0;32m---> 25\u001b[0;31m \u001b[0mtest_winograd_convolution_3x3\u001b[0m\u001b[0;34m(\u001b[0m\u001b[0;34m)\u001b[0m\u001b[0;34m\u001b[0m\u001b[0;34m\u001b[0m\u001b[0m\n\u001b[0m",
      "\u001b[0;32m<ipython-input-7-2dda50ca2179>\u001b[0m in \u001b[0;36mtest_winograd_convolution_3x3\u001b[0;34m()\u001b[0m\n\u001b[1;32m     12\u001b[0m \u001b[0;34m\u001b[0m\u001b[0m\n\u001b[1;32m     13\u001b[0m     \u001b[0;31m# Perform Winograd convolution\u001b[0m\u001b[0;34m\u001b[0m\u001b[0;34m\u001b[0m\u001b[0;34m\u001b[0m\u001b[0m\n\u001b[0;32m---> 14\u001b[0;31m     \u001b[0moutput_tile\u001b[0m \u001b[0;34m=\u001b[0m \u001b[0mwinograd_convolution_2x2_3x3\u001b[0m\u001b[0;34m(\u001b[0m\u001b[0minput_tile\u001b[0m\u001b[0;34m,\u001b[0m \u001b[0mfilter_tile\u001b[0m\u001b[0;34m)\u001b[0m\u001b[0;34m\u001b[0m\u001b[0;34m\u001b[0m\u001b[0m\n\u001b[0m\u001b[1;32m     15\u001b[0m \u001b[0;34m\u001b[0m\u001b[0m\n\u001b[1;32m     16\u001b[0m     \u001b[0;31m# Expected output using direct convolution (manually calculated or using another method)\u001b[0m\u001b[0;34m\u001b[0m\u001b[0;34m\u001b[0m\u001b[0;34m\u001b[0m\u001b[0m\n",
      "\u001b[0;32m<ipython-input-6-e366301f6058>\u001b[0m in \u001b[0;36mwinograd_convolution_2x2_3x3\u001b[0;34m(input_tile, filter_tile)\u001b[0m\n\u001b[1;32m     53\u001b[0m \u001b[0;34m\u001b[0m\u001b[0m\n\u001b[1;32m     54\u001b[0m     \u001b[0;31m# Compute the output tile\u001b[0m\u001b[0;34m\u001b[0m\u001b[0;34m\u001b[0m\u001b[0;34m\u001b[0m\u001b[0m\n\u001b[0;32m---> 55\u001b[0;31m     \u001b[0moutput_tile\u001b[0m \u001b[0;34m=\u001b[0m \u001b[0mAT\u001b[0m \u001b[0;34m@\u001b[0m \u001b[0mM\u001b[0m \u001b[0;34m@\u001b[0m \u001b[0mA\u001b[0m\u001b[0;34m\u001b[0m\u001b[0;34m\u001b[0m\u001b[0m\n\u001b[0m\u001b[1;32m     56\u001b[0m \u001b[0;34m\u001b[0m\u001b[0m\n\u001b[1;32m     57\u001b[0m     \u001b[0;32mreturn\u001b[0m \u001b[0moutput_tile\u001b[0m\u001b[0;34m[\u001b[0m\u001b[0;34m:\u001b[0m\u001b[0;36m2\u001b[0m\u001b[0;34m,\u001b[0m \u001b[0;34m:\u001b[0m\u001b[0;36m2\u001b[0m\u001b[0;34m]\u001b[0m\u001b[0;34m\u001b[0m\u001b[0;34m\u001b[0m\u001b[0m\n",
      "\u001b[0;31mValueError\u001b[0m: matmul: Input operand 1 has a mismatch in its core dimension 0, with gufunc signature (n?,k),(k,m?)->(n?,m?) (size 4 is different from 2)"
     ]
    }
   ],
   "source": [
    "def test_winograd_convolution_3x3():\n",
    "    # Input tile (4x4)\n",
    "    input_tile = np.array([[1, 2, 3, 4],\n",
    "                           [5, 6, 7, 8],\n",
    "                           [9, 10, 11, 12],\n",
    "                           [13, 14, 15, 16]], dtype=np.float32)\n",
    "\n",
    "    # Filter tile (3x3)\n",
    "    filter_tile = np.array([[1, 2, 3],\n",
    "                            [4, 5, 6],\n",
    "                            [7, 8, 9]], dtype=np.float32)\n",
    "\n",
    "    # Perform Winograd convolution\n",
    "    output_tile = winograd_convolution_2x2_3x3(input_tile, filter_tile)\n",
    "\n",
    "    # Expected output using direct convolution (manually calculated or using another method)\n",
    "    expected_output = np.array([[150, 158],\n",
    "                                [286, 294]], dtype=np.float32)\n",
    "\n",
    "    # Validate the result\n",
    "    assert np.allclose(output_tile, expected_output), \"Test failed!\"\n",
    "    print(\"Test passed!\")\n",
    "\n",
    "# Run the test\n",
    "test_winograd_convolution_3x3()\n"
   ]
  },
  {
   "cell_type": "code",
   "execution_count": null,
   "metadata": {},
   "outputs": [],
   "source": []
  }
 ],
 "metadata": {
  "kernelspec": {
   "display_name": "Python 3",
   "language": "python",
   "name": "python3"
  },
  "language_info": {
   "codemirror_mode": {
    "name": "ipython",
    "version": 3
   },
   "file_extension": ".py",
   "mimetype": "text/x-python",
   "name": "python",
   "nbconvert_exporter": "python",
   "pygments_lexer": "ipython3",
   "version": "3.6.8"
  }
 },
 "nbformat": 4,
 "nbformat_minor": 2
}
